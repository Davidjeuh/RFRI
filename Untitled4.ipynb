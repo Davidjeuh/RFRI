{
 "cells": [
  {
   "cell_type": "code",
   "execution_count": 1,
   "id": "2eba5424",
   "metadata": {},
   "outputs": [
    {
     "ename": "SyntaxError",
     "evalue": "invalid syntax (1953916069.py, line 1)",
     "output_type": "error",
     "traceback": [
      "\u001b[0;36m  File \u001b[0;32m\"/tmp/ipykernel_22488/1953916069.py\"\u001b[0;36m, line \u001b[0;32m1\u001b[0m\n\u001b[0;31m    ModuleNotFoundError                       Traceback (most recent call last)\u001b[0m\n\u001b[0m                                              ^\u001b[0m\n\u001b[0;31mSyntaxError\u001b[0m\u001b[0;31m:\u001b[0m invalid syntax\n"
     ]
    }
   ],
   "source": [
    "ModuleNotFoundError                       Traceback (most recent call last)\n",
    "/tmp/ipykernel_19057/833625566.py in <module>\n",
    "----> 1 from chatterbot import ChatBot\n",
    "      2 from chatterbot.trainers import ChatterBotCorpusTrainer\n",
    "      3 \n",
    "      4 # Create a new chatbot\n",
    "      5 chatbot = ChatBot(\n",
    "\n",
    "ModuleNotFoundError: No module named 'chatterbot'"
   ]
  }
 ],
 "metadata": {
  "kernelspec": {
   "display_name": "Python 3 (ipykernel)",
   "language": "python",
   "name": "python3"
  },
  "language_info": {
   "codemirror_mode": {
    "name": "ipython",
    "version": 3
   },
   "file_extension": ".py",
   "mimetype": "text/x-python",
   "name": "python",
   "nbconvert_exporter": "python",
   "pygments_lexer": "ipython3",
   "version": "3.9.5"
  }
 },
 "nbformat": 4,
 "nbformat_minor": 5
}
